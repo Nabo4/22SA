{
 "cells": [
  {
   "cell_type": "code",
   "execution_count": null,
   "id": "06db7371-5e7a-4807-b4d5-0639253cbf23",
   "metadata": {},
   "outputs": [],
   "source": []
  }
 ],
 "metadata": {
  "kernelspec": {
   "display_name": "",
   "name": ""
  },
  "language_info": {
   "name": ""
  }
 },
 "nbformat": 4,
 "nbformat_minor": 5
}
